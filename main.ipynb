{
 "cells": [
  {
   "cell_type": "code",
   "execution_count": 25,
   "metadata": {},
   "outputs": [
    {
     "name": "stdout",
     "output_type": "stream",
     "text": [
      "Accuracy: 0.9707602339181286\n"
     ]
    }
   ],
   "source": [
    "from sklearn import datasets\n",
    "from sklearn.model_selection import train_test_split\n",
    "from sklearn import svm\n",
    "from sklearn import metrics\n",
    "\n",
    "import mlflow\n",
    "\n",
    "if __name__ == '__main__':\n",
    "    \n",
    "    # load in dataset\n",
    "    cancer = datasets.load_breast_cancer(as_frame=True)\n",
    "\n",
    "    # train, test, split\n",
    "    X_train, X_test, Y_train, Y_test = train_test_split(cancer.data, cancer.target, test_size=0.3, random_state=109)\n",
    "    \n",
    "    # call classifier, fit, and run prediction\n",
    "    clf = svm.SVC(C=2, kernel=\"linear\")\n",
    "    clf.fit(X_train, Y_train)\n",
    "    Y_pred = clf.predict(X_test)\n",
    "\n",
    "    #print(clf.get_params())\n",
    "\n",
    "    # identify accuracy\n",
    "    print(\"Accuracy:\",metrics.accuracy_score(Y_test, Y_pred))"
   ]
  }
 ],
 "metadata": {
  "kernelspec": {
   "display_name": "venv",
   "language": "python",
   "name": "python3"
  },
  "language_info": {
   "codemirror_mode": {
    "name": "ipython",
    "version": 3
   },
   "file_extension": ".py",
   "mimetype": "text/x-python",
   "name": "python",
   "nbconvert_exporter": "python",
   "pygments_lexer": "ipython3",
   "version": "3.9.7"
  },
  "orig_nbformat": 4,
  "vscode": {
   "interpreter": {
    "hash": "7851c6ea0bec1507ec11644bff707917a6c9e1b75d762f9f2059ded58d7e6d2c"
   }
  }
 },
 "nbformat": 4,
 "nbformat_minor": 2
}
